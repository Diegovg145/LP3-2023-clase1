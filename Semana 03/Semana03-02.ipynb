{
 "cells": [
  {
   "cell_type": "markdown",
   "id": "78cde3c2",
   "metadata": {},
   "source": [
    "# Semana 03\n",
    "Vega Gamarra Diego Enrique"
   ]
  },
  {
   "cell_type": "code",
   "execution_count": null,
   "id": "b04e151e",
   "metadata": {},
   "outputs": [],
   "source": [
    "Temas:\n",
    "    1.Numeros\n",
    "    2.Variables\n",
    "    3.Manejo de cadenas\n",
    "    4.Ingresode datos por teclado\n",
    "    5.Operaciones\n",
    "    "
   ]
  },
  {
   "cell_type": "markdown",
   "id": "a64fb83e",
   "metadata": {},
   "source": [
    "2. Variables"
   ]
  },
  {
   "cell_type": "code",
   "execution_count": 9,
   "id": "6e6e6f5e",
   "metadata": {},
   "outputs": [],
   "source": [
    "edad =19"
   ]
  },
  {
   "cell_type": "code",
   "execution_count": 8,
   "id": "9c567ece",
   "metadata": {},
   "outputs": [
    {
     "data": {
      "text/plain": [
       "19"
      ]
     },
     "execution_count": 8,
     "metadata": {},
     "output_type": "execute_result"
    }
   ],
   "source": [
    "edad"
   ]
  },
  {
   "cell_type": "code",
   "execution_count": 10,
   "id": "a66371aa",
   "metadata": {},
   "outputs": [],
   "source": [
    "nombre = \"Diego\""
   ]
  },
  {
   "cell_type": "code",
   "execution_count": 11,
   "id": "1511019a",
   "metadata": {},
   "outputs": [
    {
     "data": {
      "text/plain": [
       "'Diego'"
      ]
     },
     "execution_count": 11,
     "metadata": {},
     "output_type": "execute_result"
    }
   ],
   "source": [
    "nombre"
   ]
  },
  {
   "cell_type": "code",
   "execution_count": 12,
   "id": "c9842f7c",
   "metadata": {},
   "outputs": [],
   "source": [
    "apellido = \" Vega Gamarra\""
   ]
  },
  {
   "cell_type": "code",
   "execution_count": 19,
   "id": "bcd4e431",
   "metadata": {},
   "outputs": [
    {
     "data": {
      "text/plain": [
       "'Vega Gamarra'"
      ]
     },
     "execution_count": 19,
     "metadata": {},
     "output_type": "execute_result"
    }
   ],
   "source": [
    "apellido"
   ]
  },
  {
   "cell_type": "code",
   "execution_count": 20,
   "id": "bceac9a1",
   "metadata": {},
   "outputs": [],
   "source": [
    "nombrecompleto = nombre + apellido"
   ]
  },
  {
   "cell_type": "code",
   "execution_count": 21,
   "id": "7fe4b089",
   "metadata": {},
   "outputs": [
    {
     "data": {
      "text/plain": [
       "'DiegoVega Gamarra'"
      ]
     },
     "execution_count": 21,
     "metadata": {},
     "output_type": "execute_result"
    }
   ],
   "source": [
    "nombrecompleto"
   ]
  },
  {
   "cell_type": "code",
   "execution_count": 22,
   "id": "691cd985",
   "metadata": {},
   "outputs": [],
   "source": [
    "#para cada tipo de variable utilizamos type\n",
    "#por ejemplo\n",
    "numero = 50"
   ]
  },
  {
   "cell_type": "code",
   "execution_count": 23,
   "id": "72754f2a",
   "metadata": {},
   "outputs": [
    {
     "data": {
      "text/plain": [
       "int"
      ]
     },
     "execution_count": 23,
     "metadata": {},
     "output_type": "execute_result"
    }
   ],
   "source": [
    "type(numero)"
   ]
  },
  {
   "cell_type": "code",
   "execution_count": 24,
   "id": "bec90dd7",
   "metadata": {},
   "outputs": [],
   "source": [
    "talla = 1.50"
   ]
  },
  {
   "cell_type": "code",
   "execution_count": 25,
   "id": "2d01a3fd",
   "metadata": {},
   "outputs": [
    {
     "data": {
      "text/plain": [
       "1.5"
      ]
     },
     "execution_count": 25,
     "metadata": {},
     "output_type": "execute_result"
    }
   ],
   "source": [
    "talla"
   ]
  },
  {
   "cell_type": "code",
   "execution_count": 26,
   "id": "a0a6847f",
   "metadata": {},
   "outputs": [
    {
     "data": {
      "text/plain": [
       "float"
      ]
     },
     "execution_count": 26,
     "metadata": {},
     "output_type": "execute_result"
    }
   ],
   "source": [
    "type(talla)"
   ]
  },
  {
   "cell_type": "code",
   "execution_count": 27,
   "id": "fe745e4c",
   "metadata": {},
   "outputs": [
    {
     "data": {
      "text/plain": [
       "'100'"
      ]
     },
     "execution_count": 27,
     "metadata": {},
     "output_type": "execute_result"
    }
   ],
   "source": [
    "#para convertir un numero en cadena utlizamos str()\n",
    "numero = 100\n",
    "cadena = str(numero)\n",
    "cadena"
   ]
  },
  {
   "cell_type": "code",
   "execution_count": 28,
   "id": "ff5669cf",
   "metadata": {},
   "outputs": [
    {
     "data": {
      "text/plain": [
       "50"
      ]
     },
     "execution_count": 28,
     "metadata": {},
     "output_type": "execute_result"
    }
   ],
   "source": [
    "cadena2 = \"50\"\n",
    "numero2 = int(cadena2)\n",
    "numero2"
   ]
  },
  {
   "cell_type": "code",
   "execution_count": 29,
   "id": "93b64535",
   "metadata": {},
   "outputs": [
    {
     "data": {
      "text/plain": [
       "50.0"
      ]
     },
     "execution_count": 29,
     "metadata": {},
     "output_type": "execute_result"
    }
   ],
   "source": [
    "cadena3 = \"50\"\n",
    "numero3 = float(cadena3)\n",
    "numero3"
   ]
  },
  {
   "cell_type": "code",
   "execution_count": 30,
   "id": "d69b9e56",
   "metadata": {},
   "outputs": [
    {
     "data": {
      "text/plain": [
       "float"
      ]
     },
     "execution_count": 30,
     "metadata": {},
     "output_type": "execute_result"
    }
   ],
   "source": [
    "type(numero3)"
   ]
  },
  {
   "cell_type": "code",
   "execution_count": null,
   "id": "43c97e5e",
   "metadata": {},
   "outputs": [],
   "source": []
  }
 ],
 "metadata": {
  "kernelspec": {
   "display_name": "Python 3 (ipykernel)",
   "language": "python",
   "name": "python3"
  },
  "language_info": {
   "codemirror_mode": {
    "name": "ipython",
    "version": 3
   },
   "file_extension": ".py",
   "mimetype": "text/x-python",
   "name": "python",
   "nbconvert_exporter": "python",
   "pygments_lexer": "ipython3",
   "version": "3.9.12"
  }
 },
 "nbformat": 4,
 "nbformat_minor": 5
}
