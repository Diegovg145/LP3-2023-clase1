{
 "cells": [
  {
   "cell_type": "markdown",
   "id": "89796c1f",
   "metadata": {},
   "source": [
    "# Semana 03\n",
    "Vega Gamarra Diego Enrique"
   ]
  },
  {
   "cell_type": "code",
   "execution_count": null,
   "id": "83033fc9",
   "metadata": {},
   "outputs": [],
   "source": [
    "Temas:\n",
    "    1.Numeros\n",
    "    2.Variables\n",
    "    3.Manejo de cadenas\n",
    "    4.Ingresode datos por teclado\n",
    "    5.Operaciones\n",
    "    "
   ]
  },
  {
   "cell_type": "markdown",
   "id": "245d18ce",
   "metadata": {},
   "source": [
    "2. Variables"
   ]
  },
  {
   "cell_type": "code",
   "execution_count": 2,
   "id": "5c329c9d",
   "metadata": {},
   "outputs": [],
   "source": [
    "edad = 20"
   ]
  },
  {
   "cell_type": "code",
   "execution_count": 3,
   "id": "19746443",
   "metadata": {},
   "outputs": [
    {
     "ename": "NameError",
     "evalue": "name 'Diego' is not defined",
     "output_type": "error",
     "traceback": [
      "\u001b[1;31m---------------------------------------------------------------------------\u001b[0m",
      "\u001b[1;31mNameError\u001b[0m                                 Traceback (most recent call last)",
      "Input \u001b[1;32mIn [3]\u001b[0m, in \u001b[0;36m<cell line: 1>\u001b[1;34m()\u001b[0m\n\u001b[1;32m----> 1\u001b[0m nombre \u001b[38;5;241m=\u001b[39m \u001b[43mDiego\u001b[49m\n",
      "\u001b[1;31mNameError\u001b[0m: name 'Diego' is not defined"
     ]
    }
   ],
   "source": [
    "nombre = Diego"
   ]
  },
  {
   "cell_type": "code",
   "execution_count": null,
   "id": "28659f9d",
   "metadata": {},
   "outputs": [],
   "source": []
  }
 ],
 "metadata": {
  "kernelspec": {
   "display_name": "Python 3 (ipykernel)",
   "language": "python",
   "name": "python3"
  },
  "language_info": {
   "codemirror_mode": {
    "name": "ipython",
    "version": 3
   },
   "file_extension": ".py",
   "mimetype": "text/x-python",
   "name": "python",
   "nbconvert_exporter": "python",
   "pygments_lexer": "ipython3",
   "version": "3.9.12"
  }
 },
 "nbformat": 4,
 "nbformat_minor": 5
}
